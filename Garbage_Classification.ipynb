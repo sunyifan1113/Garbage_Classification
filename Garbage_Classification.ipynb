{
 "cells": [
  {
   "cell_type": "code",
   "execution_count": 17,
   "metadata": {},
   "outputs": [],
   "source": [
    "import os\n"
   ]
  },
  {
   "cell_type": "code",
   "execution_count": 18,
   "metadata": {},
   "outputs": [],
   "source": [
    "import torch\n"
   ]
  },
  {
   "cell_type": "code",
   "execution_count": 19,
   "metadata": {},
   "outputs": [],
   "source": [
    "from torch.utils.data.sampler import SubsetRandomSampler\n",
    "from torch.utils.data.dataloader import DataLoader\n",
    "import torch.nn as nn\n",
    "import torch.nn.functional as F\n",
    "from torchinfo import summary\n",
    "import numpy as np\n",
    "import pandas as pd\n",
    "from PIL import Image\n",
    "import matplotlib.pyplot as plt\n",
    "from sklearn import preprocessing\n",
    "from sklearn.decomposition import PCA\n",
    "from sklearn.model_selection import StratifiedKFold"
   ]
  },
  {
   "cell_type": "code",
   "execution_count": 38,
   "metadata": {},
   "outputs": [],
   "source": [
    "import torchvision\n",
    "from torchvision.utils import make_grid\n",
    "from torchvision.datasets import ImageFolder\n",
    "from torchvision.transforms import Compose, ToTensor, Normalize\n",
    "import torchvision.models as models\n",
    "from torchvision import transforms\n",
    "from xgboost import XGBClassifier"
   ]
  },
  {
   "cell_type": "code",
   "execution_count": 21,
   "metadata": {},
   "outputs": [],
   "source": [
    "cwd = os.getcwd()\n",
    "root = cwd+'/data/Garbage_Classification'\n",
    "height = 16\n",
    "width = 16\n",
    "transformations = transforms.Compose([transforms.Resize((height, width)), \n",
    "                                      transforms.ToTensor(), \n",
    "                                      Normalize((0.5,), (0.5,))])\n",
    "dataset = ImageFolder(root, transform = transformations)"
   ]
  },
  {
   "cell_type": "code",
   "execution_count": 22,
   "metadata": {},
   "outputs": [],
   "source": [
    "def show_example(img, label):\n",
    "    print('Label: {} ({})'.format(dataset.classes[label], label))\n",
    "    plt.imshow(img.permute(1, 2, 0))\n",
    "    plt.xticks(())\n",
    "    plt.yticks(())"
   ]
  },
  {
   "cell_type": "code",
   "execution_count": 23,
   "metadata": {},
   "outputs": [
    {
     "name": "stderr",
     "output_type": "stream",
     "text": [
      "Clipping input data to the valid range for imshow with RGB data ([0..1] for floats or [0..255] for integers).\n"
     ]
    },
    {
     "name": "stdout",
     "output_type": "stream",
     "text": [
      "Label: plastic (4)\n"
     ]
    },
    {
     "data": {
      "image/png": "[encoded data removed]",
      "text/plain": [
       "<Figure size 432x288 with 1 Axes>"
      ]
     },
     "metadata": {},
     "output_type": "display_data"
    }
   ],
   "source": [
    "img, label = dataset[2000]\n",
    "show_example(img, label)"
   ]
  },
  {
   "cell_type": "code",
   "execution_count": 24,
   "metadata": {},
   "outputs": [
    {
     "name": "stdout",
     "output_type": "stream",
     "text": [
      "tensor([[[ 0.8824,  0.8275,  0.8431,  0.8275,  0.8039,  0.8039,  0.7804,\n",
      "           0.7490,  0.7333,  0.7176,  0.6706,  0.6863,  0.7176,  0.6941,\n",
      "           0.6627,  0.6627],\n",
      "         [ 0.8824,  0.8196,  0.8118,  0.8039,  0.8039,  0.7961,  0.7804,\n",
      "           0.7490,  0.7255,  0.6235,  0.6000,  0.6471,  0.6784,  0.6549,\n",
      "           0.6314,  0.6235],\n",
      "         [ 0.8667,  0.7961,  0.7961,  0.7961,  0.7961,  0.7882,  0.7725,\n",
      "           0.7333,  0.6863,  0.6314,  0.5922,  0.5922,  0.6392,  0.6235,\n",
      "           0.6078,  0.5765],\n",
      "         [ 0.8353,  0.7647,  0.7882,  0.7882,  0.7882,  0.7725,  0.7490,\n",
      "           0.7333,  0.6392,  0.6471,  0.6078,  0.5843,  0.6235,  0.5843,\n",
      "           0.5529,  0.5608],\n",
      "         [ 0.8118,  0.7490,  0.7804,  0.7725,  0.7725,  0.7647,  0.7333,\n",
      "           0.7176,  0.6784,  0.6157,  0.6157,  0.6078,  0.6000,  0.5529,\n",
      "           0.5216,  0.5216],\n",
      "         [ 0.7961,  0.7490,  0.7725,  0.7725,  0.7569,  0.7490,  0.7176,\n",
      "           0.7020,  0.6784,  0.6549,  0.6078,  0.5765,  0.5529,  0.5059,\n",
      "           0.4510,  0.4275],\n",
      "         [ 0.7882,  0.7490,  0.7647,  0.7725,  0.7490,  0.7176,  0.6863,\n",
      "           0.6706,  0.6392,  0.6157,  0.5686,  0.5373,  0.5216,  0.4353,\n",
      "           0.3412,  0.3176],\n",
      "         [ 0.7804,  0.7020,  0.7098,  0.7098,  0.6941,  0.6627,  0.6471,\n",
      "           0.6235,  0.6078,  0.5765,  0.5373,  0.4980,  0.4745,  0.3647,\n",
      "           0.2235,  0.1922],\n",
      "         [ 0.4196,  0.5765,  0.5765,  0.5529,  0.5373,  0.5216,  0.5216,\n",
      "           0.4980,  0.4667,  0.4196,  0.3725,  0.3255,  0.3020,  0.2000,\n",
      "           0.0431, -0.0118],\n",
      "         [ 0.3725,  0.5529,  0.5686,  0.5451,  0.5451,  0.5216,  0.5137,\n",
      "           0.4980,  0.4431,  0.4118,  0.3804,  0.3569,  0.3490,  0.2078,\n",
      "           0.0118, -0.0275],\n",
      "         [ 0.5373,  0.5059,  0.5137,  0.4745,  0.4588,  0.4275,  0.4196,\n",
      "           0.4039,  0.3569,  0.3255,  0.3020,  0.2784,  0.2784,  0.1294,\n",
      "          -0.0902, -0.1294],\n",
      "         [ 0.5059,  0.4588,  0.4667,  0.4431,  0.4275,  0.3961,  0.3804,\n",
      "           0.3569,  0.3176,  0.2863,  0.2471,  0.2314,  0.2314,  0.1059,\n",
      "          -0.1216, -0.1686],\n",
      "         [ 0.4745,  0.4431,  0.4431,  0.4196,  0.4039,  0.3725,  0.3412,\n",
      "           0.3098,  0.2706,  0.2471,  0.2235,  0.2078,  0.2157,  0.0980,\n",
      "          -0.1294, -0.1765],\n",
      "         [ 0.4431,  0.4039,  0.3961,  0.3961,  0.3882,  0.3569,  0.3176,\n",
      "           0.2863,  0.2392,  0.2314,  0.2235,  0.2000,  0.2000,  0.0902,\n",
      "          -0.1137, -0.1608],\n",
      "         [ 0.4196,  0.3647,  0.3569,  0.3647,  0.3569,  0.3176,  0.2863,\n",
      "           0.2549,  0.2235,  0.2078,  0.1922,  0.1765,  0.1686,  0.0824,\n",
      "          -0.0824, -0.1294],\n",
      "         [ 0.3490,  0.3255,  0.3333,  0.3176,  0.3098,  0.3020,  0.2863,\n",
      "           0.2471,  0.2157,  0.2000,  0.1765,  0.1686,  0.1608,  0.0902,\n",
      "          -0.0745, -0.1059]],\n",
      "\n",
      "        [[ 0.5686,  0.4824,  0.4980,  0.5059,  0.5137,  0.5216,  0.5059,\n",
      "           0.4745,  0.4588,  0.4431,  0.4039,  0.3961,  0.4039,  0.3647,\n",
      "           0.3255,  0.3255],\n",
      "         [ 0.5608,  0.4745,  0.4980,  0.5059,  0.5137,  0.5216,  0.5059,\n",
      "           0.4745,  0.4588,  0.3725,  0.3412,  0.3647,  0.3882,  0.3490,\n",
      "           0.3176,  0.3176],\n",
      "         [ 0.5373,  0.4667,  0.5059,  0.5137,  0.5216,  0.5137,  0.4980,\n",
      "           0.4667,  0.4196,  0.3725,  0.3412,  0.3255,  0.3569,  0.3176,\n",
      "           0.2784,  0.2863],\n",
      "         [ 0.5294,  0.4588,  0.5059,  0.5137,  0.5137,  0.5059,  0.4824,\n",
      "           0.4588,  0.3882,  0.3882,  0.3412,  0.3176,  0.3412,  0.2863,\n",
      "           0.2549,  0.2549],\n",
      "         [ 0.5216,  0.4588,  0.4980,  0.4980,  0.4980,  0.4980,  0.4745,\n",
      "           0.4510,  0.4196,  0.3569,  0.3412,  0.3255,  0.3255,  0.2784,\n",
      "           0.2392,  0.2235],\n",
      "         [ 0.5137,  0.4667,  0.4902,  0.4980,  0.4824,  0.4824,  0.4588,\n",
      "           0.4353,  0.4118,  0.3882,  0.3333,  0.3020,  0.2784,  0.2314,\n",
      "           0.1686,  0.1529],\n",
      "         [ 0.5059,  0.4588,  0.4902,  0.4902,  0.4745,  0.4510,  0.4275,\n",
      "           0.4039,  0.3804,  0.3569,  0.3020,  0.2784,  0.2471,  0.1608,\n",
      "           0.0667,  0.0510],\n",
      "         [ 0.4902,  0.4196,  0.4353,  0.4275,  0.4196,  0.3961,  0.3882,\n",
      "           0.3647,  0.3490,  0.3255,  0.2627,  0.2314,  0.2000,  0.0980,\n",
      "          -0.0275, -0.0510],\n",
      "         [ 0.1686,  0.3020,  0.3098,  0.2863,  0.2784,  0.2706,  0.2627,\n",
      "           0.2471,  0.2314,  0.1922,  0.1216,  0.0745,  0.0510, -0.0431,\n",
      "          -0.1686, -0.2157],\n",
      "         [ 0.1294,  0.2706,  0.2941,  0.2863,  0.2863,  0.2706,  0.2549,\n",
      "           0.2392,  0.2000,  0.1686,  0.1216,  0.0824,  0.0745, -0.0353,\n",
      "          -0.2000, -0.2314],\n",
      "         [ 0.2549,  0.2235,  0.2392,  0.2078,  0.1922,  0.1843,  0.1765,\n",
      "           0.1451,  0.1137,  0.0824,  0.0510,  0.0196,  0.0118, -0.0980,\n",
      "          -0.2784, -0.3098],\n",
      "         [ 0.2235,  0.1843,  0.1922,  0.1765,  0.1608,  0.1529,  0.1373,\n",
      "           0.1137,  0.0745,  0.0510,  0.0118, -0.0118, -0.0196, -0.1216,\n",
      "          -0.2941, -0.3255],\n",
      "         [ 0.1922,  0.1686,  0.1686,  0.1451,  0.1373,  0.1137,  0.0980,\n",
      "           0.0667,  0.0353,  0.0118, -0.0196, -0.0353, -0.0275, -0.1216,\n",
      "          -0.2941, -0.3333],\n",
      "         [ 0.1686,  0.1294,  0.1216,  0.1294,  0.1216,  0.0980,  0.0667,\n",
      "           0.0510,  0.0118,  0.0039, -0.0196, -0.0431, -0.0510, -0.1373,\n",
      "          -0.2941, -0.3333],\n",
      "         [ 0.1529,  0.0902,  0.0902,  0.0980,  0.0980,  0.0667,  0.0431,\n",
      "           0.0196, -0.0039, -0.0196, -0.0510, -0.0667, -0.0745, -0.1451,\n",
      "          -0.2784, -0.3176],\n",
      "         [ 0.1059,  0.0667,  0.0667,  0.0588,  0.0588,  0.0510,  0.0431,\n",
      "           0.0118, -0.0275, -0.0353, -0.0667, -0.0824, -0.0902, -0.1529,\n",
      "          -0.2706, -0.3020]],\n",
      "\n",
      "        [[ 0.3098,  0.2549,  0.2784,  0.2784,  0.2941,  0.2863,  0.2706,\n",
      "           0.2392,  0.2157,  0.2000,  0.1686,  0.1686,  0.1765,  0.1373,\n",
      "           0.1059,  0.0980],\n",
      "         [ 0.3098,  0.2549,  0.2784,  0.2784,  0.2941,  0.2941,  0.2784,\n",
      "           0.2471,  0.2235,  0.1529,  0.1216,  0.1373,  0.1608,  0.1294,\n",
      "           0.0902,  0.0902],\n",
      "         [ 0.2941,  0.2392,  0.2706,  0.2706,  0.2863,  0.2784,  0.2627,\n",
      "           0.2392,  0.1922,  0.1451,  0.1137,  0.0980,  0.1294,  0.0980,\n",
      "           0.0588,  0.0510],\n",
      "         [ 0.2706,  0.2157,  0.2549,  0.2627,  0.2706,  0.2627,  0.2392,\n",
      "           0.2157,  0.1529,  0.1451,  0.1059,  0.0902,  0.1059,  0.0667,\n",
      "           0.0353,  0.0275],\n",
      "         [ 0.2627,  0.2157,  0.2471,  0.2471,  0.2549,  0.2549,  0.2235,\n",
      "           0.2000,  0.1686,  0.1137,  0.0980,  0.0902,  0.0824,  0.0431,\n",
      "           0.0118, -0.0039],\n",
      "         [ 0.2471,  0.2157,  0.2471,  0.2471,  0.2392,  0.2314,  0.2078,\n",
      "           0.1843,  0.1529,  0.1294,  0.0824,  0.0588,  0.0431, -0.0039,\n",
      "          -0.0510, -0.0667],\n",
      "         [ 0.2471,  0.2235,  0.2471,  0.2392,  0.2235,  0.2000,  0.1765,\n",
      "           0.1529,  0.1294,  0.1059,  0.0510,  0.0353,  0.0118, -0.0667,\n",
      "          -0.1529, -0.1608],\n",
      "         [ 0.2392,  0.1843,  0.1922,  0.1843,  0.1765,  0.1529,  0.1294,\n",
      "           0.1059,  0.0980,  0.0745,  0.0118, -0.0118, -0.0353, -0.1294,\n",
      "          -0.2392, -0.2549],\n",
      "         [-0.0353,  0.0745,  0.0745,  0.0510,  0.0353,  0.0196,  0.0118,\n",
      "          -0.0039, -0.0196, -0.0510, -0.1137, -0.1608, -0.1843, -0.2549,\n",
      "          -0.3725, -0.4039],\n",
      "         [-0.0745,  0.0510,  0.0588,  0.0510,  0.0510,  0.0275,  0.0196,\n",
      "          -0.0039, -0.0510, -0.0745, -0.1059, -0.1451, -0.1451, -0.2471,\n",
      "          -0.4039, -0.4196],\n",
      "         [ 0.0196, -0.0039,  0.0118, -0.0118, -0.0275, -0.0431, -0.0588,\n",
      "          -0.0745, -0.1137, -0.1451, -0.1765, -0.2000, -0.2000, -0.3098,\n",
      "          -0.4667, -0.4980],\n",
      "         [-0.0039, -0.0353, -0.0275, -0.0431, -0.0510, -0.0667, -0.0902,\n",
      "          -0.1137, -0.1529, -0.1765, -0.2157, -0.2314, -0.2392, -0.3255,\n",
      "          -0.4824, -0.5137],\n",
      "         [-0.0275, -0.0510, -0.0510, -0.0667, -0.0745, -0.0980, -0.1294,\n",
      "          -0.1529, -0.1922, -0.2078, -0.2392, -0.2549, -0.2471, -0.3255,\n",
      "          -0.4902, -0.5216],\n",
      "         [-0.0510, -0.0902, -0.0824, -0.0745, -0.0824, -0.1059, -0.1373,\n",
      "          -0.1686, -0.2078, -0.2157, -0.2392, -0.2627, -0.2549, -0.3333,\n",
      "          -0.4824, -0.5137],\n",
      "         [-0.0588, -0.1137, -0.1137, -0.0980, -0.0980, -0.1294, -0.1529,\n",
      "          -0.1843, -0.2157, -0.2314, -0.2549, -0.2706, -0.2784, -0.3412,\n",
      "          -0.4667, -0.4980],\n",
      "         [-0.0980, -0.1373, -0.1294, -0.1294, -0.1294, -0.1373, -0.1451,\n",
      "          -0.1843, -0.2235, -0.2392, -0.2627, -0.2784, -0.2863, -0.3412,\n",
      "          -0.4588, -0.4824]]])\n"
     ]
    }
   ],
   "source": [
    "print(dataset[0][0])"
   ]
  },
  {
   "cell_type": "code",
   "execution_count": 25,
   "metadata": {},
   "outputs": [],
   "source": [
    "def split_indices(n, test_frac, val_frac, seed):\n",
    "    # Determine the size of the validation set and the test set\n",
    "    n_test = int(test_frac * n)\n",
    "    n_val = int(val_frac * n)\n",
    "    np.random.seed(seed)\n",
    "    # Create random permutation between 0 to n-1\n",
    "    idxs = np.random.permutation(n)\n",
    "    # Pick first n_val indices for validation set\n",
    "    return idxs[:n_test], idxs[n_test:n_test+n_val], idxs[n_test+n_val:]"
   ]
  },
  {
   "cell_type": "code",
   "execution_count": 26,
   "metadata": {},
   "outputs": [
    {
     "name": "stdout",
     "output_type": "stream",
     "text": [
      "#samples in training set: 2023\n",
      "#samples in validation set: 252\n",
      "#samples in test set: 252\n"
     ]
    }
   ],
   "source": [
    "test_frac = 0.1 # Set the fraction for the test set\n",
    "val_frac =  0.1 ## Set the fraction for the validation set\n",
    "rand_seed =  42 ## Set the random seed\n",
    "test_indices, val_indices, train_indices = split_indices(len(dataset), test_frac, val_frac, rand_seed)\n",
    "print(\"#samples in training set: {}\".format(len(train_indices)))\n",
    "print(\"#samples in validation set: {}\".format(len(val_indices)))\n",
    "print(\"#samples in test set: {}\".format(len(test_indices)))"
   ]
  },
  {
   "cell_type": "code",
   "execution_count": 27,
   "metadata": {},
   "outputs": [],
   "source": [
    "batch_size = 8\n",
    "train_sampler = SubsetRandomSampler(train_indices)\n",
    "train_dl = DataLoader(dataset,\n",
    "                      batch_size,\n",
    "                      sampler=train_sampler)\n",
    "\n",
    "val_sampler = SubsetRandomSampler(val_indices)\n",
    "val_dl = DataLoader(dataset,\n",
    "                    batch_size,\n",
    "                    sampler=val_sampler)"
   ]
  },
  {
   "cell_type": "code",
   "execution_count": 28,
   "metadata": {},
   "outputs": [],
   "source": [
    "def show_batch(dl):\n",
    "    for images, labels in dl:\n",
    "        fig, ax = plt.subplots(figsize=(10,10))\n",
    "        ax.set_xticks([]); ax.set_yticks([])\n",
    "        ax.imshow(make_grid(images, 8).permute(1, 2, 0))\n",
    "        break"
   ]
  },
  {
   "cell_type": "code",
   "execution_count": 29,
   "metadata": {},
   "outputs": [
    {
     "name": "stderr",
     "output_type": "stream",
     "text": [
      "Clipping input data to the valid range for imshow with RGB data ([0..1] for floats or [0..255] for integers).\n"
     ]
    },
    {
     "data": {
      "image/png": "[encoded data removed]",
      "text/plain": [
       "<Figure size 720x720 with 1 Axes>"
      ]
     },
     "metadata": {},
     "output_type": "display_data"
    }
   ],
   "source": [
    "show_batch(train_dl)"
   ]
  },
  {
   "cell_type": "code",
   "execution_count": 30,
   "metadata": {},
   "outputs": [],
   "source": [
    "class ResNet(nn.Module):\n",
    "    def __init__(self):\n",
    "        super().__init__()\n",
    "        self.network = models.resnet50(pretrained=True)\n",
    "        num_ftrs = self.network.fc.in_features\n",
    "        self.network.fc = nn.Linear(num_ftrs, len(dataset.classes))\n",
    "    \n",
    "    def forward(self, xb):\n",
    "        return torch.sigmoid(self.network(xb))"
   ]
  },
  {
   "cell_type": "code",
   "execution_count": 31,
   "metadata": {},
   "outputs": [],
   "source": [
    "model = ResNet()"
   ]
  },
  {
   "cell_type": "code",
   "execution_count": 32,
   "metadata": {},
   "outputs": [],
   "source": [
    "def get_default_device():\n",
    "    \"\"\"Use GPU if available, else CPU\"\"\"\n",
    "    if torch.cuda.is_available():\n",
    "        return torch.device('cuda')\n",
    "    else:\n",
    "        return torch.device('cpu')\n",
    "\n",
    "def to_device(data, device):\n",
    "    \"\"\"Move tensor(s) to chosen device\"\"\"\n",
    "    if isinstance(data, (list,tuple)):\n",
    "        return [to_device(x, device) for x in data]\n",
    "    return data.to(device, non_blocking=True)\n",
    "\n",
    "class DeviceDataLoader():\n",
    "    \"\"\"Wrap a dataloader to move data to a device\"\"\"\n",
    "    def __init__(self, dl, device):\n",
    "        self.dl = dl\n",
    "        self.device = device\n",
    "    \n",
    "    def __iter__(self):\n",
    "        \"\"\"Yield a batch of data after moving it to device\"\"\"\n",
    "        for b in self.dl:\n",
    "            yield to_device(b, self.device)\n",
    "    \n",
    "    def __len__(self):\n",
    "        \"\"\"Number of batches\"\"\"\n",
    "        return len(self.dl)"
   ]
  },
  {
   "cell_type": "code",
   "execution_count": 33,
   "metadata": {},
   "outputs": [
    {
     "data": {
      "text/plain": [
       "ResNet(\n",
       "  (network): ResNet(\n",
       "    (conv1): Conv2d(3, 64, kernel_size=(7, 7), stride=(2, 2), padding=(3, 3), bias=False)\n",
       "    (bn1): BatchNorm2d(64, eps=1e-05, momentum=0.1, affine=True, track_running_stats=True)\n",
       "    (relu): ReLU(inplace=True)\n",
       "    (maxpool): MaxPool2d(kernel_size=3, stride=2, padding=1, dilation=1, ceil_mode=False)\n",
       "    (layer1): Sequential(\n",
       "      (0): Bottleneck(\n",
       "        (conv1): Conv2d(64, 64, kernel_size=(1, 1), stride=(1, 1), bias=False)\n",
       "        (bn1): BatchNorm2d(64, eps=1e-05, momentum=0.1, affine=True, track_running_stats=True)\n",
       "        (conv2): Conv2d(64, 64, kernel_size=(3, 3), stride=(1, 1), padding=(1, 1), bias=False)\n",
       "        (bn2): BatchNorm2d(64, eps=1e-05, momentum=0.1, affine=True, track_running_stats=True)\n",
       "        (conv3): Conv2d(64, 256, kernel_size=(1, 1), stride=(1, 1), bias=False)\n",
       "        (bn3): BatchNorm2d(256, eps=1e-05, momentum=0.1, affine=True, track_running_stats=True)\n",
       "        (relu): ReLU(inplace=True)\n",
       "        (downsample): Sequential(\n",
       "          (0): Conv2d(64, 256, kernel_size=(1, 1), stride=(1, 1), bias=False)\n",
       "          (1): BatchNorm2d(256, eps=1e-05, momentum=0.1, affine=True, track_running_stats=True)\n",
       "        )\n",
       "      )\n",
       "      (1): Bottleneck(\n",
       "        (conv1): Conv2d(256, 64, kernel_size=(1, 1), stride=(1, 1), bias=False)\n",
       "        (bn1): BatchNorm2d(64, eps=1e-05, momentum=0.1, affine=True, track_running_stats=True)\n",
       "        (conv2): Conv2d(64, 64, kernel_size=(3, 3), stride=(1, 1), padding=(1, 1), bias=False)\n",
       "        (bn2): BatchNorm2d(64, eps=1e-05, momentum=0.1, affine=True, track_running_stats=True)\n",
       "        (conv3): Conv2d(64, 256, kernel_size=(1, 1), stride=(1, 1), bias=False)\n",
       "        (bn3): BatchNorm2d(256, eps=1e-05, momentum=0.1, affine=True, track_running_stats=True)\n",
       "        (relu): ReLU(inplace=True)\n",
       "      )\n",
       "      (2): Bottleneck(\n",
       "        (conv1): Conv2d(256, 64, kernel_size=(1, 1), stride=(1, 1), bias=False)\n",
       "        (bn1): BatchNorm2d(64, eps=1e-05, momentum=0.1, affine=True, track_running_stats=True)\n",
       "        (conv2): Conv2d(64, 64, kernel_size=(3, 3), stride=(1, 1), padding=(1, 1), bias=False)\n",
       "        (bn2): BatchNorm2d(64, eps=1e-05, momentum=0.1, affine=True, track_running_stats=True)\n",
       "        (conv3): Conv2d(64, 256, kernel_size=(1, 1), stride=(1, 1), bias=False)\n",
       "        (bn3): BatchNorm2d(256, eps=1e-05, momentum=0.1, affine=True, track_running_stats=True)\n",
       "        (relu): ReLU(inplace=True)\n",
       "      )\n",
       "    )\n",
       "    (layer2): Sequential(\n",
       "      (0): Bottleneck(\n",
       "        (conv1): Conv2d(256, 128, kernel_size=(1, 1), stride=(1, 1), bias=False)\n",
       "        (bn1): BatchNorm2d(128, eps=1e-05, momentum=0.1, affine=True, track_running_stats=True)\n",
       "        (conv2): Conv2d(128, 128, kernel_size=(3, 3), stride=(2, 2), padding=(1, 1), bias=False)\n",
       "        (bn2): BatchNorm2d(128, eps=1e-05, momentum=0.1, affine=True, track_running_stats=True)\n",
       "        (conv3): Conv2d(128, 512, kernel_size=(1, 1), stride=(1, 1), bias=False)\n",
       "        (bn3): BatchNorm2d(512, eps=1e-05, momentum=0.1, affine=True, track_running_stats=True)\n",
       "        (relu): ReLU(inplace=True)\n",
       "        (downsample): Sequential(\n",
       "          (0): Conv2d(256, 512, kernel_size=(1, 1), stride=(2, 2), bias=False)\n",
       "          (1): BatchNorm2d(512, eps=1e-05, momentum=0.1, affine=True, track_running_stats=True)\n",
       "        )\n",
       "      )\n",
       "      (1): Bottleneck(\n",
       "        (conv1): Conv2d(512, 128, kernel_size=(1, 1), stride=(1, 1), bias=False)\n",
       "        (bn1): BatchNorm2d(128, eps=1e-05, momentum=0.1, affine=True, track_running_stats=True)\n",
       "        (conv2): Conv2d(128, 128, kernel_size=(3, 3), stride=(1, 1), padding=(1, 1), bias=False)\n",
       "        (bn2): BatchNorm2d(128, eps=1e-05, momentum=0.1, affine=True, track_running_stats=True)\n",
       "        (conv3): Conv2d(128, 512, kernel_size=(1, 1), stride=(1, 1), bias=False)\n",
       "        (bn3): BatchNorm2d(512, eps=1e-05, momentum=0.1, affine=True, track_running_stats=True)\n",
       "        (relu): ReLU(inplace=True)\n",
       "      )\n",
       "      (2): Bottleneck(\n",
       "        (conv1): Conv2d(512, 128, kernel_size=(1, 1), stride=(1, 1), bias=False)\n",
       "        (bn1): BatchNorm2d(128, eps=1e-05, momentum=0.1, affine=True, track_running_stats=True)\n",
       "        (conv2): Conv2d(128, 128, kernel_size=(3, 3), stride=(1, 1), padding=(1, 1), bias=False)\n",
       "        (bn2): BatchNorm2d(128, eps=1e-05, momentum=0.1, affine=True, track_running_stats=True)\n",
       "        (conv3): Conv2d(128, 512, kernel_size=(1, 1), stride=(1, 1), bias=False)\n",
       "        (bn3): BatchNorm2d(512, eps=1e-05, momentum=0.1, affine=True, track_running_stats=True)\n",
       "        (relu): ReLU(inplace=True)\n",
       "      )\n",
       "      (3): Bottleneck(\n",
       "        (conv1): Conv2d(512, 128, kernel_size=(1, 1), stride=(1, 1), bias=False)\n",
       "        (bn1): BatchNorm2d(128, eps=1e-05, momentum=0.1, affine=True, track_running_stats=True)\n",
       "        (conv2): Conv2d(128, 128, kernel_size=(3, 3), stride=(1, 1), padding=(1, 1), bias=False)\n",
       "        (bn2): BatchNorm2d(128, eps=1e-05, momentum=0.1, affine=True, track_running_stats=True)\n",
       "        (conv3): Conv2d(128, 512, kernel_size=(1, 1), stride=(1, 1), bias=False)\n",
       "        (bn3): BatchNorm2d(512, eps=1e-05, momentum=0.1, affine=True, track_running_stats=True)\n",
       "        (relu): ReLU(inplace=True)\n",
       "      )\n",
       "    )\n",
       "    (layer3): Sequential(\n",
       "      (0): Bottleneck(\n",
       "        (conv1): Conv2d(512, 256, kernel_size=(1, 1), stride=(1, 1), bias=False)\n",
       "        (bn1): BatchNorm2d(256, eps=1e-05, momentum=0.1, affine=True, track_running_stats=True)\n",
       "        (conv2): Conv2d(256, 256, kernel_size=(3, 3), stride=(2, 2), padding=(1, 1), bias=False)\n",
       "        (bn2): BatchNorm2d(256, eps=1e-05, momentum=0.1, affine=True, track_running_stats=True)\n",
       "        (conv3): Conv2d(256, 1024, kernel_size=(1, 1), stride=(1, 1), bias=False)\n",
       "        (bn3): BatchNorm2d(1024, eps=1e-05, momentum=0.1, affine=True, track_running_stats=True)\n",
       "        (relu): ReLU(inplace=True)\n",
       "        (downsample): Sequential(\n",
       "          (0): Conv2d(512, 1024, kernel_size=(1, 1), stride=(2, 2), bias=False)\n",
       "          (1): BatchNorm2d(1024, eps=1e-05, momentum=0.1, affine=True, track_running_stats=True)\n",
       "        )\n",
       "      )\n",
       "      (1): Bottleneck(\n",
       "        (conv1): Conv2d(1024, 256, kernel_size=(1, 1), stride=(1, 1), bias=False)\n",
       "        (bn1): BatchNorm2d(256, eps=1e-05, momentum=0.1, affine=True, track_running_stats=True)\n",
       "        (conv2): Conv2d(256, 256, kernel_size=(3, 3), stride=(1, 1), padding=(1, 1), bias=False)\n",
       "        (bn2): BatchNorm2d(256, eps=1e-05, momentum=0.1, affine=True, track_running_stats=True)\n",
       "        (conv3): Conv2d(256, 1024, kernel_size=(1, 1), stride=(1, 1), bias=False)\n",
       "        (bn3): BatchNorm2d(1024, eps=1e-05, momentum=0.1, affine=True, track_running_stats=True)\n",
       "        (relu): ReLU(inplace=True)\n",
       "      )\n",
       "      (2): Bottleneck(\n",
       "        (conv1): Conv2d(1024, 256, kernel_size=(1, 1), stride=(1, 1), bias=False)\n",
       "        (bn1): BatchNorm2d(256, eps=1e-05, momentum=0.1, affine=True, track_running_stats=True)\n",
       "        (conv2): Conv2d(256, 256, kernel_size=(3, 3), stride=(1, 1), padding=(1, 1), bias=False)\n",
       "        (bn2): BatchNorm2d(256, eps=1e-05, momentum=0.1, affine=True, track_running_stats=True)\n",
       "        (conv3): Conv2d(256, 1024, kernel_size=(1, 1), stride=(1, 1), bias=False)\n",
       "        (bn3): BatchNorm2d(1024, eps=1e-05, momentum=0.1, affine=True, track_running_stats=True)\n",
       "        (relu): ReLU(inplace=True)\n",
       "      )\n",
       "      (3): Bottleneck(\n",
       "        (conv1): Conv2d(1024, 256, kernel_size=(1, 1), stride=(1, 1), bias=False)\n",
       "        (bn1): BatchNorm2d(256, eps=1e-05, momentum=0.1, affine=True, track_running_stats=True)\n",
       "        (conv2): Conv2d(256, 256, kernel_size=(3, 3), stride=(1, 1), padding=(1, 1), bias=False)\n",
       "        (bn2): BatchNorm2d(256, eps=1e-05, momentum=0.1, affine=True, track_running_stats=True)\n",
       "        (conv3): Conv2d(256, 1024, kernel_size=(1, 1), stride=(1, 1), bias=False)\n",
       "        (bn3): BatchNorm2d(1024, eps=1e-05, momentum=0.1, affine=True, track_running_stats=True)\n",
       "        (relu): ReLU(inplace=True)\n",
       "      )\n",
       "      (4): Bottleneck(\n",
       "        (conv1): Conv2d(1024, 256, kernel_size=(1, 1), stride=(1, 1), bias=False)\n",
       "        (bn1): BatchNorm2d(256, eps=1e-05, momentum=0.1, affine=True, track_running_stats=True)\n",
       "        (conv2): Conv2d(256, 256, kernel_size=(3, 3), stride=(1, 1), padding=(1, 1), bias=False)\n",
       "        (bn2): BatchNorm2d(256, eps=1e-05, momentum=0.1, affine=True, track_running_stats=True)\n",
       "        (conv3): Conv2d(256, 1024, kernel_size=(1, 1), stride=(1, 1), bias=False)\n",
       "        (bn3): BatchNorm2d(1024, eps=1e-05, momentum=0.1, affine=True, track_running_stats=True)\n",
       "        (relu): ReLU(inplace=True)\n",
       "      )\n",
       "      (5): Bottleneck(\n",
       "        (conv1): Conv2d(1024, 256, kernel_size=(1, 1), stride=(1, 1), bias=False)\n",
       "        (bn1): BatchNorm2d(256, eps=1e-05, momentum=0.1, affine=True, track_running_stats=True)\n",
       "        (conv2): Conv2d(256, 256, kernel_size=(3, 3), stride=(1, 1), padding=(1, 1), bias=False)\n",
       "        (bn2): BatchNorm2d(256, eps=1e-05, momentum=0.1, affine=True, track_running_stats=True)\n",
       "        (conv3): Conv2d(256, 1024, kernel_size=(1, 1), stride=(1, 1), bias=False)\n",
       "        (bn3): BatchNorm2d(1024, eps=1e-05, momentum=0.1, affine=True, track_running_stats=True)\n",
       "        (relu): ReLU(inplace=True)\n",
       "      )\n",
       "    )\n",
       "    (layer4): Sequential(\n",
       "      (0): Bottleneck(\n",
       "        (conv1): Conv2d(1024, 512, kernel_size=(1, 1), stride=(1, 1), bias=False)\n",
       "        (bn1): BatchNorm2d(512, eps=1e-05, momentum=0.1, affine=True, track_running_stats=True)\n",
       "        (conv2): Conv2d(512, 512, kernel_size=(3, 3), stride=(2, 2), padding=(1, 1), bias=False)\n",
       "        (bn2): BatchNorm2d(512, eps=1e-05, momentum=0.1, affine=True, track_running_stats=True)\n",
       "        (conv3): Conv2d(512, 2048, kernel_size=(1, 1), stride=(1, 1), bias=False)\n",
       "        (bn3): BatchNorm2d(2048, eps=1e-05, momentum=0.1, affine=True, track_running_stats=True)\n",
       "        (relu): ReLU(inplace=True)\n",
       "        (downsample): Sequential(\n",
       "          (0): Conv2d(1024, 2048, kernel_size=(1, 1), stride=(2, 2), bias=False)\n",
       "          (1): BatchNorm2d(2048, eps=1e-05, momentum=0.1, affine=True, track_running_stats=True)\n",
       "        )\n",
       "      )\n",
       "      (1): Bottleneck(\n",
       "        (conv1): Conv2d(2048, 512, kernel_size=(1, 1), stride=(1, 1), bias=False)\n",
       "        (bn1): BatchNorm2d(512, eps=1e-05, momentum=0.1, affine=True, track_running_stats=True)\n",
       "        (conv2): Conv2d(512, 512, kernel_size=(3, 3), stride=(1, 1), padding=(1, 1), bias=False)\n",
       "        (bn2): BatchNorm2d(512, eps=1e-05, momentum=0.1, affine=True, track_running_stats=True)\n",
       "        (conv3): Conv2d(512, 2048, kernel_size=(1, 1), stride=(1, 1), bias=False)\n",
       "        (bn3): BatchNorm2d(2048, eps=1e-05, momentum=0.1, affine=True, track_running_stats=True)\n",
       "        (relu): ReLU(inplace=True)\n",
       "      )\n",
       "      (2): Bottleneck(\n",
       "        (conv1): Conv2d(2048, 512, kernel_size=(1, 1), stride=(1, 1), bias=False)\n",
       "        (bn1): BatchNorm2d(512, eps=1e-05, momentum=0.1, affine=True, track_running_stats=True)\n",
       "        (conv2): Conv2d(512, 512, kernel_size=(3, 3), stride=(1, 1), padding=(1, 1), bias=False)\n",
       "        (bn2): BatchNorm2d(512, eps=1e-05, momentum=0.1, affine=True, track_running_stats=True)\n",
       "        (conv3): Conv2d(512, 2048, kernel_size=(1, 1), stride=(1, 1), bias=False)\n",
       "        (bn3): BatchNorm2d(2048, eps=1e-05, momentum=0.1, affine=True, track_running_stats=True)\n",
       "        (relu): ReLU(inplace=True)\n",
       "      )\n",
       "    )\n",
       "    (avgpool): AdaptiveAvgPool2d(output_size=(1, 1))\n",
       "    (fc): Linear(in_features=2048, out_features=6, bias=True)\n",
       "  )\n",
       ")"
      ]
     },
     "execution_count": 33,
     "metadata": {},
     "output_type": "execute_result"
    }
   ],
   "source": [
    "device = get_default_device()\n",
    "\n",
    "train_dl = DeviceDataLoader(train_dl, device)\n",
    "val_dl = DeviceDataLoader(val_dl, device)\n",
    "\n",
    "to_device(model, device)"
   ]
  },
  {
   "cell_type": "code",
   "execution_count": 34,
   "metadata": {},
   "outputs": [],
   "source": [
    "def train_model(n_epochs, model, train_dl, val_dl, loss_fn, opt_fn, lr):\n",
    "    \"\"\"\n",
    "    Trains the model on a dataset.\n",
    "    \n",
    "    Args:\n",
    "        n_epochs: number of epochs\n",
    "        model: ImageClassifierNet object\n",
    "        train_dl: training dataloader\n",
    "        val_dl: validation dataloader\n",
    "        loss_fn: the loss function\n",
    "        opt_fn: the optimizer\n",
    "        lr: learning rate\n",
    "    \n",
    "    Returns:\n",
    "        The trained model. \n",
    "        A tuple of (model, train_losses, val_losses, train_accuracies, val_accuracies)\n",
    "    \"\"\"\n",
    "    # Record these values the end of each epoch\n",
    "    train_losses, val_losses, train_accuracies, val_accuracies = [], [], [], []\n",
    "    models = []\n",
    "    ######################\n",
    "    #   YOUR CODE HERE   #\n",
    "    ######################\n",
    "    for epoch in range(n_epochs):\n",
    "        optimization = opt_fn(model.parameters(), lr = lr)\n",
    "        train_loss = 0\n",
    "        train_accuracy = None\n",
    "        preds, keys = [], []\n",
    "        for images, labels in train_dl:\n",
    "            # Model output\n",
    "            optimization.zero_grad()\n",
    "            y_pred = model(images)\n",
    "            loss = loss_fn(y_pred, labels)\n",
    "            loss.backward()\n",
    "            optimization.step()\n",
    "            \n",
    "            train_loss += loss.item()\n",
    "            _, y_pred = torch.max(y_pred, dim=1)\n",
    "            preds.extend(y_pred)\n",
    "            keys.extend(labels)          \n",
    "            \n",
    "        preds, keys = torch.tensor(preds), torch.tensor(keys)\n",
    "        train_accuracy = torch.sum(preds == keys).item() / len(preds)\n",
    "        train_loss /= len(preds)\n",
    "        train_losses.append(train_loss)\n",
    "        train_accuracies.append(train_accuracy)\n",
    "        \n",
    "    # Validation process\n",
    "        val_loss = 0\n",
    "        val_accuracy = None\n",
    "        if len(val_dl) > 0:\n",
    "            with torch.no_grad():\n",
    "                preds, keys = [], []\n",
    "                for images, labels in val_dl:\n",
    "                # Model output\n",
    "                    y_pred = model(images)\n",
    "                    loss = loss_fn(y_pred, labels)\n",
    "                    val_loss += loss.item()\n",
    "                    _, y_pred = torch.max(y_pred, dim=1)\n",
    "                    preds.extend(y_pred)\n",
    "                    keys.extend(labels)               \n",
    "            preds, keys = torch.tensor(preds), torch.tensor(keys)\n",
    "            val_accuracy = torch.sum(preds == keys).item() / len(preds)\n",
    "            models.append(model)\n",
    "            val_loss /= len(preds)\n",
    "            val_losses.append(val_loss)\n",
    "            val_accuracies.append(val_accuracy)\n",
    "            \n",
    "    # Print progress\n",
    "        if val_accuracy is not None:\n",
    "            print(\"Epoch {}/{}, train_loss: {:.4f}, val_loss: {:.4f}, train_accuracy: {:.4f}, val_accuracy: {:.4f}\"\n",
    "                    .format(epoch+1, n_epochs, train_loss, val_loss, train_accuracy, val_accuracy))\n",
    "        else:\n",
    "            print(\"Epoch {}/{}, train_loss: {:.4f}, train_accuracy: {:.4f}\"\n",
    "                    .format(epoch+1, n_epochs, train_loss, train_accuracy))\n",
    "    if val_accuracy is not None:\n",
    "        model = models[np.argmax(val_accuracies)]\n",
    "    return model, train_losses, val_losses, train_accuracies, val_accuracies"
   ]
  },
  {
   "cell_type": "code",
   "execution_count": 37,
   "metadata": {},
   "outputs": [],
   "source": [
    "def evaluate(model, test_dl):\n",
    "    with torch.no_grad():\n",
    "        model.eval()\n",
    "        total_test_dl = 0\n",
    "        preds, labels = [], []\n",
    "        for xb, yb in test_dl:\n",
    "            # Model output\n",
    "            y_pred = model(xb)\n",
    "            _, y_pred = torch.max(y_pred, dim=1)\n",
    "            preds.extend(y_pred)\n",
    "            labels.extend(yb)               \n",
    "            total_test_dl += len(yb)\n",
    "\n",
    "    preds, labels = torch.tensor(preds), torch.tensor(labels)\n",
    "    test_accuracy = torch.sum(preds == labels).item() / len(preds)\n",
    "    return test_accuracy"
   ]
  },
  {
   "cell_type": "code",
   "execution_count": 35,
   "metadata": {},
   "outputs": [],
   "source": [
    "from torch.optim import Adam\n",
    "num_epochs = 10# Max number of training epochs\n",
    "loss_fn = nn.CrossEntropyLoss()# Define the loss function\n",
    "opt_fn = Adam# Select an optimizer\n",
    "lr = 0.001# Set the learning rate"
   ]
  },
  {
   "cell_type": "code",
   "execution_count": 52,
   "metadata": {},
   "outputs": [
    {
     "name": "stdout",
     "output_type": "stream",
     "text": [
      "[2 3 0 ... 2 2 1]\n"
     ]
    }
   ],
   "source": [
    "path = [root+'/cardboard', root+'/glass', root+'/metal', root+'/paper', root+'/plastic', root+'/trash']\n",
    "images = []\n",
    "labels = []\n",
    "for i in range(6):\n",
    "    for filename in sorted(os.listdir(path[i])):\n",
    "        image = np.asarray(Image.open(path[i] + \"/\" + filename))\n",
    "        height, width = image.shape[0], image.shape[1]\n",
    "        image = image.flatten()\n",
    "        images.append(image)\n",
    "        labels.append(i)\n",
    "images = np.array(images)\n",
    "labels = np.array(labels)\n",
    "X = pd.DataFrame(data=images)\n",
    "y = pd.DataFrame(data=labels)\n",
    "\n",
    "test_indices, val_indices, train_indices = split_indices(len(dataset), 0.1, 0.1, 42)\n",
    "\n",
    "X_train, X_val, X_test = X.iloc[train_indices], X.iloc[val_indices], X.iloc[test_indices]\n",
    "y_train, y_val, y_test = y.iloc[train_indices].values.ravel(), y.iloc[val_indices].values.ravel(), y.iloc[test_indices].values.ravel()\n",
    "\n",
    "subset_indices, _ , _ = split_indices(len(dataset), 0.1, 0, 10)\n",
    "X_sub = X.iloc[subset_indices]\n",
    "y_sub = y.iloc[subset_indices].values.ravel()\n",
    "\n",
    "print(y_train)"
   ]
  },
  {
   "cell_type": "code",
   "execution_count": null,
   "metadata": {},
   "outputs": [],
   "source": [
    "from sklearn.model_selection import StratifiedKFold\n",
    "subset_train_indices, subset_test_indices, _ = split_indices(len(dataset), 0.09, 0.01, 10)\n",
    "subset_sampler = SubsetRandomSampler(subset_train_indices)\n",
    "test_sampler = SubsetRandomSampler(subset_test_indices)\n",
    "batch_sizes = [10,20,40,60,80,100]\n",
    "epochs = [10,50,100]\n",
    "learning_rate = [0.1,0.01,0.001]\n",
    "acc = []\n",
    "for batch in batch_sizes:\n",
    "    for epoch in epochs:\n",
    "        for lr in learning_rate:\n",
    "            skf = StratifiedKFold(n_splits = 5, shuffle = True)\n",
    "            subset_dl = DataLoader(dataset, batch, sampler=subset_sampler)\n",
    "            model = ResNet()\n",
    "            history = train_model(epoch, model, subset_dl, [], loss_fn, opt_fn, lr)\n",
    "            model = history[0]\n",
    "            test_dl = DataLoader(dataset, batch, sampler=test_sampler)\n",
    "            acc.append(evaluate(model,test_dl))\n",
    "            print(evaluate(model,test_dl))\n",
    "            \n",
    "idx = acc.index(max(acc))\n",
    "batch_size = batch_sizes[idx//(len(epochs)*len(learning_rate))]\n",
    "num_epochs = epochs[(idx%(len(epochs)*len(learning_rate)))//len(learning_rate)]\n",
    "lr = learning_rate[(idx%(len(epochs)*len(learning_rate)))%len(learning_rate)]"
   ]
  },
  {
   "cell_type": "code",
   "execution_count": 20,
   "metadata": {},
   "outputs": [
    {
     "name": "stdout",
     "output_type": "stream",
     "text": [
      "Epoch 1/10, train_loss: 0.2135, val_loss: 0.2196, train_accuracy: 0.2397, val_accuracy: 0.2381\n",
      "Epoch 2/10, train_loss: 0.2195, val_loss: 0.2214, train_accuracy: 0.2274, val_accuracy: 0.2222\n",
      "Epoch 3/10, train_loss: 0.2165, val_loss: 0.2111, train_accuracy: 0.2378, val_accuracy: 0.2619\n",
      "Epoch 4/10, train_loss: 0.2133, val_loss: 0.2154, train_accuracy: 0.2501, val_accuracy: 0.1746\n",
      "Epoch 5/10, train_loss: 0.2115, val_loss: 0.2117, train_accuracy: 0.2551, val_accuracy: 0.2738\n",
      "Epoch 6/10, train_loss: 0.2097, val_loss: 0.2142, train_accuracy: 0.2961, val_accuracy: 0.2976\n",
      "Epoch 7/10, train_loss: 0.2107, val_loss: 0.2159, train_accuracy: 0.2966, val_accuracy: 0.2619\n",
      "Epoch 8/10, train_loss: 0.2106, val_loss: 0.2146, train_accuracy: 0.2704, val_accuracy: 0.2500\n",
      "Epoch 9/10, train_loss: 0.2084, val_loss: 0.2134, train_accuracy: 0.2758, val_accuracy: 0.1905\n",
      "Epoch 10/10, train_loss: 0.2088, val_loss: 0.2150, train_accuracy: 0.2635, val_accuracy: 0.2222\n"
     ]
    }
   ],
   "source": [
    "history = train_model(num_epochs, model, train_dl, val_dl, loss_fn, opt_fn, lr)\n",
    "model, train_losses, val_losses, train_accuracies, val_accuracies = history"
   ]
  },
  {
   "cell_type": "code",
   "execution_count": 21,
   "metadata": {},
   "outputs": [],
   "source": [
    "def plot_accuracy(train_accuracies, val_accuracies):\n",
    "    \"\"\"Plot accuracies\"\"\"\n",
    "    plt.plot(train_accuracies, \"-x\")\n",
    "    plt.plot(val_accuracies, \"-o\")\n",
    "    plt.xlabel(\"Epoch\")\n",
    "    plt.ylabel(\"Accuracy\")\n",
    "    plt.legend([\"Training\", \"Validation\"])\n",
    "    plt.title(\"Accuracy vs. No. of epochs\")"
   ]
  },
  {
   "cell_type": "code",
   "execution_count": 22,
   "metadata": {},
   "outputs": [
    {
     "data": {
      "image/png": "[encoded data removed]",
      "text/plain": [
       "<Figure size 432x288 with 1 Axes>"
      ]
     },
     "metadata": {
      "needs_background": "light"
     },
     "output_type": "display_data"
    }
   ],
   "source": [
    "plot_accuracy(train_accuracies, val_accuracies)"
   ]
  },
  {
   "cell_type": "code",
   "execution_count": 23,
   "metadata": {},
   "outputs": [],
   "source": [
    "def plot_losses(train_losses, val_losses):\n",
    "    \"\"\"Plot losses\"\"\"\n",
    "    plt.plot(train_losses, \"-x\")\n",
    "    plt.plot(val_losses, \"-o\")\n",
    "    plt.xlabel(\"Epoch\")\n",
    "    plt.ylabel(\"Loss\")\n",
    "    plt.legend([\"Training\", \"Validation\"])\n",
    "    plt.title(\"Loss vs. No. of Epochs\")"
   ]
  },
  {
   "cell_type": "code",
   "execution_count": 24,
   "metadata": {},
   "outputs": [
    {
     "data": {
      "image/png": "[encoded data removed]",
      "text/plain": [
       "<Figure size 432x288 with 1 Axes>"
      ]
     },
     "metadata": {
      "needs_background": "light"
     },
     "output_type": "display_data"
    }
   ],
   "source": [
    "plot_losses(train_losses, val_losses)"
   ]
  },
  {
   "cell_type": "code",
   "execution_count": 29,
   "metadata": {},
   "outputs": [
    {
     "name": "stdout",
     "output_type": "stream",
     "text": [
      "[1124 1387  157 ... 1130 1294  860]\n",
      "[1124 1387  157 ... 1546   76  432]\n"
     ]
    }
   ],
   "source": [
    "train_indices = np.append(train_indices, val_indices)\n",
    "train_sampler = SubsetRandomSampler(train_indices)\n",
    "train_dl = DataLoader(dataset,\n",
    "                      batch_size,\n",
    "                      sampler=train_sampler)"
   ]
  },
  {
   "cell_type": "code",
   "execution_count": 31,
   "metadata": {},
   "outputs": [
    {
     "name": "stdout",
     "output_type": "stream",
     "text": [
      "Epoch 1/20, train_loss: 0.2081, train_accuracy: 0.3178\n",
      "Epoch 2/20, train_loss: 0.2019, train_accuracy: 0.3569\n",
      "Epoch 3/20, train_loss: 0.2033, train_accuracy: 0.3591\n",
      "Epoch 4/20, train_loss: 0.2091, train_accuracy: 0.3200\n",
      "Epoch 5/20, train_loss: 0.2080, train_accuracy: 0.3209\n",
      "Epoch 6/20, train_loss: 0.2059, train_accuracy: 0.3349\n",
      "Epoch 7/20, train_loss: 0.2034, train_accuracy: 0.3284\n",
      "Epoch 8/20, train_loss: 0.2002, train_accuracy: 0.3780\n",
      "Epoch 9/20, train_loss: 0.1962, train_accuracy: 0.4101\n",
      "Epoch 10/20, train_loss: 0.1986, train_accuracy: 0.4141\n",
      "Epoch 11/20, train_loss: 0.1996, train_accuracy: 0.4057\n",
      "Epoch 12/20, train_loss: 0.1941, train_accuracy: 0.4277\n",
      "Epoch 13/20, train_loss: 0.1967, train_accuracy: 0.4101\n",
      "Epoch 14/20, train_loss: 0.1957, train_accuracy: 0.4295\n",
      "Epoch 15/20, train_loss: 0.1950, train_accuracy: 0.4391\n",
      "Epoch 16/20, train_loss: 0.1935, train_accuracy: 0.4558\n",
      "Epoch 17/20, train_loss: 0.1941, train_accuracy: 0.4782\n",
      "Epoch 18/20, train_loss: 0.1923, train_accuracy: 0.4804\n",
      "Epoch 19/20, train_loss: 0.1927, train_accuracy: 0.4765\n",
      "Epoch 20/20, train_loss: 0.1925, train_accuracy: 0.4642\n"
     ]
    }
   ],
   "source": [
    "num_epochs = 20# Max number of training epochs\n",
    "lr = 0.001# Set the learning rate\n",
    "\n",
    "history = train_model(num_epochs, model, train_dl, [], loss_fn, opt_fn, lr)\n",
    "model = history[0]"
   ]
  },
  {
   "cell_type": "code",
   "execution_count": 32,
   "metadata": {},
   "outputs": [
    {
     "name": "stdout",
     "output_type": "stream",
     "text": [
      "Epoch 1/20, train_loss: 0.1889, train_accuracy: 0.5134\n",
      "Epoch 2/20, train_loss: 0.1888, train_accuracy: 0.5081\n",
      "Epoch 3/20, train_loss: 0.1887, train_accuracy: 0.5169\n",
      "Epoch 4/20, train_loss: 0.1871, train_accuracy: 0.5323\n",
      "Epoch 5/20, train_loss: 0.1873, train_accuracy: 0.5222\n",
      "Epoch 6/20, train_loss: 0.1869, train_accuracy: 0.5222\n",
      "Epoch 7/20, train_loss: 0.1869, train_accuracy: 0.5270\n",
      "Epoch 8/20, train_loss: 0.1874, train_accuracy: 0.5196\n",
      "Epoch 9/20, train_loss: 0.1857, train_accuracy: 0.5156\n",
      "Epoch 10/20, train_loss: 0.1871, train_accuracy: 0.5235\n",
      "Epoch 11/20, train_loss: 0.1859, train_accuracy: 0.5354\n",
      "Epoch 12/20, train_loss: 0.1860, train_accuracy: 0.5376\n",
      "Epoch 13/20, train_loss: 0.1855, train_accuracy: 0.5371\n",
      "Epoch 14/20, train_loss: 0.1851, train_accuracy: 0.5402\n",
      "Epoch 15/20, train_loss: 0.1844, train_accuracy: 0.5473\n",
      "Epoch 16/20, train_loss: 0.1843, train_accuracy: 0.5411\n",
      "Epoch 17/20, train_loss: 0.1853, train_accuracy: 0.5376\n",
      "Epoch 18/20, train_loss: 0.1846, train_accuracy: 0.5516\n",
      "Epoch 19/20, train_loss: 0.1831, train_accuracy: 0.5596\n",
      "Epoch 20/20, train_loss: 0.1834, train_accuracy: 0.5525\n"
     ]
    }
   ],
   "source": [
    "num_epochs = 20\n",
    "lr = 0.0001\n",
    "history = train_model(num_epochs, model, train_dl, [], loss_fn, opt_fn, lr)\n",
    "model = history[0]"
   ]
  },
  {
   "cell_type": "code",
   "execution_count": 35,
   "metadata": {},
   "outputs": [],
   "source": [
    "def view_prediction(img, label, probs, classes):\n",
    "    \"\"\"\n",
    "    Visualize predictions.\n",
    "    \"\"\"\n",
    "    probs = probs.cpu().numpy().squeeze()\n",
    "\n",
    "    fig, (ax1, ax2) = plt.subplots(figsize=(8,15), ncols=2)\n",
    "    ax1.imshow(img.permute(1,2,0))\n",
    "    ax1.axis('off')\n",
    "    ax1.set_title('Actual: {}'.format(classes[label]))\n",
    "    ax2.barh(np.arange(6), probs)\n",
    "    ax2.set_aspect(0.1)\n",
    "    ax2.set_yticks(np.arange(6))\n",
    "    ax2.set_yticklabels(classes, size='small');\n",
    "    ax2.set_title('Predicted: probabilities')\n",
    "    ax2.set_xlim(0, 1.1)\n",
    "\n",
    "    plt.tight_layout()"
   ]
  },
  {
   "cell_type": "code",
   "execution_count": 36,
   "metadata": {},
   "outputs": [
    {
     "name": "stderr",
     "output_type": "stream",
     "text": [
      "Clipping input data to the valid range for imshow with RGB data ([0..1] for floats or [0..255] for integers).\n"
     ]
    },
    {
     "data": {
      "image/png": "[encoded data removed]",
      "text/plain": [
       "<Figure size 576x1080 with 2 Axes>"
      ]
     },
     "metadata": {
      "needs_background": "light"
     },
     "output_type": "display_data"
    }
   ],
   "source": [
    "images = iter(train_dl)\n",
    "for imgs, labels in images:\n",
    "    with torch.no_grad():\n",
    "        model.eval()\n",
    "        # Calculate the class probabilites (log softmax) for img\n",
    "        probs = torch.nn.functional.softmax(model(imgs[0].unsqueeze(0)), dim=1)\n",
    "        # Plot the image and probabilites\n",
    "        view_prediction(imgs[0], labels[0], probs, dataset.classes)\n",
    "    break"
   ]
  },
  {
   "cell_type": "code",
   "execution_count": 38,
   "metadata": {},
   "outputs": [],
   "source": [
    "test_sampler = SubsetRandomSampler(test_indices)\n",
    "test_dl = DataLoader(dataset,\n",
    "                      batch_size,\n",
    "                      sampler=test_sampler)\n",
    "test_dl = DeviceDataLoader(test_dl, device)"
   ]
  },
  {
   "cell_type": "code",
   "execution_count": 40,
   "metadata": {},
   "outputs": [
    {
     "name": "stdout",
     "output_type": "stream",
     "text": [
      "Test Accuracy = 0.5992\n"
     ]
    }
   ],
   "source": [
    "print(\"Test Accuracy = {:.4f}\".format(evaluate(model, test_dl)))"
   ]
  },
  {
   "cell_type": "code",
   "execution_count": 13,
   "metadata": {},
   "outputs": [
    {
     "name": "stderr",
     "output_type": "stream",
     "text": [
      "/Users/quanlin/opt/anaconda3/lib/python3.7/site-packages/xgboost/sklearn.py:1224: UserWarning: The use of label encoder in XGBClassifier is deprecated and will be removed in a future release. To remove this warning, do the following: 1) Pass option use_label_encoder=False when constructing XGBClassifier object; and 2) Encode your labels (y) as integers starting with 0, i.e. 0, 1, 2, ..., [num_class - 1].\n",
      "  warnings.warn(label_encoder_deprecation_msg, UserWarning)\n"
     ]
    },
    {
     "name": "stdout",
     "output_type": "stream",
     "text": [
      "[02:52:55] WARNING: ../src/learner.cc:1115: Starting in XGBoost 1.3.0, the default evaluation metric used with the objective 'multi:softprob' was changed from 'merror' to 'mlogloss'. Explicitly set eval_metric if you'd like to restore the old behavior.\n"
     ]
    },
    {
     "data": {
      "text/plain": [
       "0.6944444444444444"
      ]
     },
     "execution_count": 13,
     "metadata": {},
     "output_type": "execute_result"
    }
   ],
   "source": [
    "from sklearn.model_selection import GridSearchCV\n",
    "estimator = XGBClassifier(\n",
    "    objective= 'multi:softprob',\n",
    "    num_class= 6\n",
    ")\n",
    "parameters = {\n",
    "    'max_depth': range (2, 10, 1),\n",
    "    'n_estimators': range(60, 220, 40),\n",
    "    'learning_rate': [0.1, 0.01, 0.05]\n",
    "}\n",
    "grid_search = GridSearchCV(\n",
    "    estimator=estimator,\n",
    "    param_grid=parameters,\n",
    "    scoring = 'accuracy',\n",
    "    n_jobs = 10,\n",
    "    cv = 10,\n",
    ")\n",
    "\n",
    "grid_search.fit(X_sub, y_sub)\n",
    "grid_search.best_estimator_\n",
    "os.environ['KMP_DUPLICATE_LIB_OK']='True'\n",
    "xgbmodel = grid_search.best_estimator_\n",
    "xgbmodel.fit(X_train, y_train)\n",
    "xgbmodel.score(X_val, y_val)"
   ]
  },
  {
   "cell_type": "code",
   "execution_count": 12,
   "metadata": {},
   "outputs": [
    {
     "name": "stdout",
     "output_type": "stream",
     "text": [
      "Accuracy: 0.43253968253968256\n"
     ]
    }
   ],
   "source": [
    "from sklearn.tree import DecisionTreeClassifier\n",
    "from sklearn import metrics\n",
    "clf = DecisionTreeClassifier()\n",
    "clf = clf.fit(X_train,y_train)\n",
    "y_pred = clf.predict(X_test)\n",
    "print(\"Accuracy:\",metrics.accuracy_score(y_test, y_pred))"
   ]
  },
  {
   "cell_type": "code",
   "execution_count": 15,
   "metadata": {},
   "outputs": [
    {
     "name": "stdout",
     "output_type": "stream",
     "text": [
      "Accuracy: 0.6825396825396826\n"
     ]
    }
   ],
   "source": [
    "print(\"Accuracy:\", xgbmodel.score(X_test, y_test))"
   ]
  },
  {
   "cell_type": "code",
   "execution_count": 58,
   "metadata": {},
   "outputs": [
    {
     "name": "stdout",
     "output_type": "stream",
     "text": [
      "Accuracy: 0.44444444444444444\n"
     ]
    }
   ],
   "source": [
    "from sklearn.linear_model import LogisticRegression\n",
    "estimator = LogisticRegression(max_iter = 1e5)\n",
    "parameters = {\n",
    "    'C': [0.001,0.01,0.1,1,10,100,1000],\n",
    "    'penalty': ['l1','l2']\n",
    "}\n",
    "grid_search = GridSearchCV(\n",
    "    estimator=estimator,\n",
    "    param_grid=parameters, \n",
    "    n_jobs = 10,\n",
    "    cv = 10,\n",
    ")\n",
    "grid_search.fit(X_sub, y_sub)\n",
    "lr = grid_search.best_estimator_\n",
    "lr = lr.fit(X_train,y_train)\n",
    "y_pred = lr.predict(X_test)\n",
    "print(\"Accuracy:\",metrics.accuracy_score(y_test, y_pred))"
   ]
  },
  {
   "cell_type": "code",
   "execution_count": null,
   "metadata": {},
   "outputs": [],
   "source": []
  }
 ],
 "metadata": {
  "kernelspec": {
   "display_name": "Python 3",
   "language": "python",
   "name": "python3"
  },
  "language_info": {
   "codemirror_mode": {
    "name": "ipython",
    "version": 3
   },
   "file_extension": ".py",
   "mimetype": "text/x-python",
   "name": "python",
   "nbconvert_exporter": "python",
   "pygments_lexer": "ipython3",
   "version": "3.8.3"
  }
 },
 "nbformat": 4,
 "nbformat_minor": 4
}
